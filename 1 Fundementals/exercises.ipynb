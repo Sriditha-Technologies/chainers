{
 "cells": [
  {
   "cell_type": "markdown",
   "metadata": {},
   "source": [
    "## Understanding Blockchain Fundementals"
   ]
  },
  {
   "cell_type": "code",
   "execution_count": 2,
   "metadata": {},
   "outputs": [
    {
     "name": "stdout",
     "output_type": "stream",
     "text": [
      "Block hash: f22a85abcdfd0a04179795c097d77de410f37a45d3059561bf0f94e83364d32b\n"
     ]
    }
   ],
   "source": [
    "## Representing blockchain block in Python\n",
    "import hashlib\n",
    "import time\n",
    "\n",
    "class Block:\n",
    "    def __init__(self, index, transactions, previous_hash):\n",
    "        self.index = index\n",
    "        self.transactions = transactions\n",
    "        self.previous_hash = previous_hash\n",
    "        self.timestamp = time.time()\n",
    "        self.hash = self.calculate_hash()\n",
    "\n",
    "    def calculate_hash(self):\n",
    "        block_string = f\"{self.index}{self.timestamp}{self.transactions}{self.previous_hash}\"\n",
    "        return hashlib.sha256(block_string.encode()).hexdigest()\n",
    "    \n",
    "# Example block\n",
    "block = Block(0, [{\"sender\": \"Dilip\", \"receiver\": \"Lalitha\", \"amount\": 40}], \"0\")\n",
    "print(f\"Block hash: {block.hash}\")"
   ]
  },
  {
   "cell_type": "code",
   "execution_count": 3,
   "metadata": {},
   "outputs": [
    {
     "name": "stdout",
     "output_type": "stream",
     "text": [
      "{\n",
      "    \"sender\": \"Dilip\",\n",
      "    \"receiver\": \"Lalitha\",\n",
      "    \"amount\": 40\n",
      "}\n"
     ]
    }
   ],
   "source": [
    "## Simple representation of a transaction in Python\n",
    "import json\n",
    "\n",
    "transaction = {\n",
    "    \"sender\": \"Dilip\",\n",
    "    \"receiver\": \"Lalitha\",\n",
    "    \"amount\": 40\n",
    "}\n",
    "\n",
    "transaction_json = json.dumps(transaction, indent=4)\n",
    "print(transaction_json)"
   ]
  },
  {
   "cell_type": "code",
   "execution_count": 4,
   "metadata": {},
   "outputs": [
    {
     "name": "stdout",
     "output_type": "stream",
     "text": [
      "SHA-256 hash:46b8fa45e23c87a4b6e5a4b86bb31eecbe2a0246ac2d0271336daeb10b5b3cd3\n"
     ]
    }
   ],
   "source": [
    "## Simple representation of hashing in Python\n",
    "import hashlib\n",
    "\n",
    "greeting = \"Hello, Blockchain!!!\"\n",
    "\n",
    "# Calculate the hash of the greeting\n",
    "greeting_hash = hashlib.sha256(greeting.encode()).hexdigest()\n",
    "print(f\"SHA-256 hash:{greeting_hash}\")"
   ]
  },
  {
   "cell_type": "code",
   "execution_count": 6,
   "metadata": {},
   "outputs": [
    {
     "name": "stdout",
     "output_type": "stream",
     "text": [
      "Block mined: 000083e0bf27874a63a455ba7cf1b8b897648ee1a7bd0df853ec52d1d61f575f\n"
     ]
    }
   ],
   "source": [
    "## Simple Proof of Work in Python\n",
    "import hashlib\n",
    "import time\n",
    "\n",
    "class Block:\n",
    "    def __init__(self, index, transactions, previous_hash):\n",
    "        self.index = index\n",
    "        self.transactions = transactions\n",
    "        self.timestamp = time.time()\n",
    "        self.previous_hash = previous_hash\n",
    "        self.nonce = 0 # Used for mining\n",
    "        self.hash = self.calculate_hash()\n",
    "\n",
    "    def calculate_hash(self):\n",
    "        block_string = f\"{self.index}{self.timestamp}{self.transactions}{self.previous_hash}{self.nonce}\"\n",
    "        return hashlib.sha256(block_string.encode()).hexdigest()\n",
    "    \n",
    "    def mine_block(self, difficulty):\n",
    "        while self.hash[:difficulty] != \"0\" * difficulty:\n",
    "            self.nonce += 1\n",
    "            self.hash = self.calculate_hash()\n",
    "        print(f\"Block mined: {self.hash}\")\n",
    "\n",
    "# Example block\n",
    "block = Block(0, [{\"sender\": \"Dilip\", \"receiver\": \"Lalitha\", \"amount\": 40}], \"0\")\n",
    "block.mine_block(4) # Difficulty level of 4"
   ]
  },
  {
   "cell_type": "code",
   "execution_count": null,
   "metadata": {},
   "outputs": [],
   "source": []
  }
 ],
 "metadata": {
  "kernelspec": {
   "display_name": "blockchain",
   "language": "python",
   "name": "python3"
  },
  "language_info": {
   "codemirror_mode": {
    "name": "ipython",
    "version": 3
   },
   "file_extension": ".py",
   "mimetype": "text/x-python",
   "name": "python",
   "nbconvert_exporter": "python",
   "pygments_lexer": "ipython3",
   "version": "3.12.9"
  }
 },
 "nbformat": 4,
 "nbformat_minor": 2
}

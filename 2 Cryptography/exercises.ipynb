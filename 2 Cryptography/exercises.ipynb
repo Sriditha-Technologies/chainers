{
 "cells": [
  {
   "cell_type": "markdown",
   "metadata": {},
   "source": [
    "# Cryptography in Blockchain"
   ]
  },
  {
   "cell_type": "code",
   "execution_count": 1,
   "metadata": {},
   "outputs": [
    {
     "name": "stdout",
     "output_type": "stream",
     "text": [
      "SHA-256 Hash: 2b149b68fe8495a160d0c10e0ab1819bfa88fd56323bf0a38c000e84bf0b56cc\n"
     ]
    }
   ],
   "source": [
    "## SHA-256 Hashing in Python\n",
    "import hashlib\n",
    "\n",
    "data = \"Blockchain security\"\n",
    "hashed_data = hashlib.sha256(data.encode()).hexdigest()\n",
    "print(f\"SHA-256 Hash: {hashed_data}\")"
   ]
  },
  {
   "cell_type": "code",
   "execution_count": 2,
   "metadata": {},
   "outputs": [
    {
     "name": "stdout",
     "output_type": "stream",
     "text": [
      "Keccak-256 Hash: ced2b0835b32cd1ea0441ddfd64cc8dbca9898f1cc5813f174907794f0b11de8\n"
     ]
    }
   ],
   "source": [
    "## Keccak 256 Hashing in Python\n",
    "import hashlib\n",
    "\n",
    "data = \"Blockchain security\"\n",
    "hashed_data = hashlib.sha3_256(data.encode()).hexdigest()\n",
    "print(f\"Keccak-256 Hash: {hashed_data}\")"
   ]
  },
  {
   "cell_type": "code",
   "execution_count": 4,
   "metadata": {},
   "outputs": [
    {
     "name": "stdout",
     "output_type": "stream",
     "text": [
      "Private Key: f29ad4c931e6dc586a4346edccc09379f79524c3f86a8e6979ed017a3050bc8c\n",
      "Public Key: f13730bf6f9df65bd452e2aa876a44c822e068de0627a55a0d9f64b9108507570db670febdb8299ebbe48e65b2b6bf234a02dab9800fc713c7b565f105f9b7b6\n"
     ]
    }
   ],
   "source": [
    "## Private and Public Keys in Python\n",
    "from ecdsa import SigningKey, SECP256k1\n",
    "\n",
    "## Generating a private key\n",
    "private_key = SigningKey.generate(curve=SECP256k1)\n",
    "print(f\"Private Key: {private_key.to_string().hex()}\")\n",
    "\n",
    "# Generating a public key\n",
    "public_key = private_key.get_verifying_key()\n",
    "print(f\"Public Key: {public_key.to_string().hex()}\")"
   ]
  },
  {
   "cell_type": "code",
   "execution_count": 5,
   "metadata": {},
   "outputs": [
    {
     "name": "stdout",
     "output_type": "stream",
     "text": [
      "Digital signature: 3f0b729e1f04739ce7043e1714594a3e18f20ccabc1c6b43fa4c9db470c59fc47e59faf309a7e3fa311a12f148c1aff0076a358de139c39e635502c5c7502b54\n",
      "Signature is valid: True\n"
     ]
    }
   ],
   "source": [
    "## Creating a digital signature\n",
    "from ecdsa import SigningKey, SECP256k1\n",
    "\n",
    "# Generate private key\n",
    "private_key = SigningKey.generate(curve=SECP256k1)\n",
    "message = b\"Secure Blockchain Transactions\"\n",
    "\n",
    "# Sign the message\n",
    "signature = private_key.sign(message)\n",
    "print(f\"Digital signature: {signature.hex()}\")\n",
    "\n",
    "# Verify the signature\n",
    "public_key = private_key.get_verifying_key()\n",
    "is_valid = public_key.verify(signature, message)\n",
    "print(f\"Signature is valid: {is_valid}\")"
   ]
  },
  {
   "cell_type": "code",
   "execution_count": 6,
   "metadata": {},
   "outputs": [
    {
     "name": "stdout",
     "output_type": "stream",
     "text": [
      "Merkle root hash: 773bc304a3b0a626a520a8d6eacc36809ac18c0b174f3ff3cdaf0a4e9c64433d\n"
     ]
    }
   ],
   "source": [
    "## Merkle Trees in Python\n",
    "import hashlib\n",
    "\n",
    "def hash_function(data):\n",
    "    return hashlib.sha256(data.encode()).hexdigest()\n",
    "\n",
    "# Example transactions\n",
    "transactions = [\"tx1\", \"tx2\", \"tx3\", \"tx4\"]\n",
    "\n",
    "# Hashed transactions\n",
    "hashed_transactions = [hash_function(tx) for tx in transactions]\n",
    "\n",
    "# Combine and hash pairs\n",
    "while len(hashed_transactions) > 1:\n",
    "    new_hashed_transactions = []\n",
    "    for i in range(0, len(hashed_transactions), 2):\n",
    "        combined = hashed_transactions[i] + hashed_transactions[i+1]\n",
    "        new_hashed_transactions.append(hash_function(combined))\n",
    "    hashed_transactions = new_hashed_transactions\n",
    "\n",
    "# Merkle tree\n",
    "print(f\"Merkle root hash: {hashed_transactions[0]}\")"
   ]
  },
  {
   "cell_type": "code",
   "execution_count": null,
   "metadata": {},
   "outputs": [],
   "source": []
  }
 ],
 "metadata": {
  "kernelspec": {
   "display_name": "blockchain",
   "language": "python",
   "name": "python3"
  },
  "language_info": {
   "codemirror_mode": {
    "name": "ipython",
    "version": 3
   },
   "file_extension": ".py",
   "mimetype": "text/x-python",
   "name": "python",
   "nbconvert_exporter": "python",
   "pygments_lexer": "ipython3",
   "version": "3.12.9"
  }
 },
 "nbformat": 4,
 "nbformat_minor": 2
}
